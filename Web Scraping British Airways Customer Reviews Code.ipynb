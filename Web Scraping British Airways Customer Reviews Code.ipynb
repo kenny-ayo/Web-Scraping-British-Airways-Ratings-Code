{
 "cells": [
  {
   "cell_type": "markdown",
   "id": "4331d8b4",
   "metadata": {},
   "source": [
    "## BACKGROUND\n",
    " \n",
    "British Airways is one of the most popular airlines worldwide, particularly in European countries. Skytrax, a website dedicated to reviewing and rating airlines which serves as the source of data for this project. The focus of the analysis for this project is on British Airways' ratings."
   ]
  },
  {
   "cell_type": "markdown",
   "id": "24f89f32",
   "metadata": {},
   "source": [
    "## DATA\n",
    "\n",
    "This is the data source page where the dataset can be accessed: [British Airline Reviews](https://www.airlinequality.com/airline-reviews/british-airways)"
   ]
  },
  {
   "cell_type": "code",
   "execution_count": 1,
   "id": "314d72da",
   "metadata": {},
   "outputs": [],
   "source": [
    "from bs4 import BeautifulSoup\n",
    "import requests\n",
    "import pandas as pd"
   ]
  },
  {
   "cell_type": "code",
   "execution_count": 2,
   "id": "85aabb1f",
   "metadata": {},
   "outputs": [],
   "source": [
    "url = \"https://www.airlinequality.com/airline-reviews/british-airways/?sortby=post_date%3ADesc&pagesize=100\""
   ]
  },
  {
   "cell_type": "code",
   "execution_count": 3,
   "id": "24e857a0",
   "metadata": {},
   "outputs": [],
   "source": [
    "page = requests.get(url)"
   ]
  },
  {
   "cell_type": "code",
   "execution_count": 4,
   "id": "6c9f921d",
   "metadata": {},
   "outputs": [],
   "source": [
    "soup = BeautifulSoup(page.text, \"html\")"
   ]
  },
  {
   "cell_type": "code",
   "execution_count": 5,
   "id": "0eaf62bd",
   "metadata": {},
   "outputs": [],
   "source": [
    "Review_Header = soup.find_all(\"h2\", class_=\"text_header\")\n",
    "\n",
    "#To extract just the text from the review_header\n",
    "Clean_Review_Header = [header.get_text().strip() for header in Review_Header]\n"
   ]
  },
  {
   "cell_type": "code",
   "execution_count": 13,
   "id": "675e8802",
   "metadata": {},
   "outputs": [
    {
     "name": "stdout",
     "output_type": "stream",
     "text": [
      "                                        0\n",
      "0             \"I will never fly BA again\"\n",
      "1            \"I was pleasantly surprised\"\n",
      "2    \"flight attendants were outstanding\"\n",
      "3        \"Food and service was the worst\"\n",
      "4      “flying with BA was disappointing”\n",
      "..                                    ...\n",
      "95  “premium price for a sub-par product”\n",
      "96        \"can't even choose my own seat\"\n",
      "97               “Very impressed with BA”\n",
      "98           \"appalling customer service\"\n",
      "99   \"baggage customer service is a joke\"\n",
      "\n",
      "[100 rows x 1 columns]\n"
     ]
    }
   ],
   "source": [
    "df = pd.DataFrame(Clean_Review_Header)\n",
    "print(df)"
   ]
  },
  {
   "cell_type": "code",
   "execution_count": 14,
   "id": "e5e47abe",
   "metadata": {},
   "outputs": [],
   "source": [
    "df.to_csv(r'C:\\Users\\KEHINDE FAITH A\\Downloads\\BA_Practice\\BA_Review_Header.csv', index=False)"
   ]
  },
  {
   "cell_type": "code",
   "execution_count": 6,
   "id": "ea407daa",
   "metadata": {},
   "outputs": [],
   "source": [
    "Review_Sub_Header = soup.find_all(\"h3\", class_=\"text_sub_header userStatusWrapper\")\n",
    "\n",
    "#Extract the desired info\n",
    "text_Sub_Header = []\n",
    "for header in Review_Sub_Header:\n",
    "    # Extract name\n",
    "    name = header.find(\"span\", itemprop=\"name\").get_text().strip()\n",
    "    \n",
    "    # Extract country from the text by splitting after the closing tag of <span>\n",
    "    country = header.get_text().split(')')[0].split('(')[-1].strip()\n",
    "    \n",
    "    # Extract datetime and datePublished\n",
    "    time_tag = header.find(\"time\", itemprop=\"datePublished\")\n",
    "    datetime = time_tag['datetime']\n",
    "    date_published = time_tag.get_text().strip()\n",
    "\n",
    "    # Append the extracted information to the data list\n",
    "    text_Sub_Header.append({\"name\": name, \"country\": country, \"datetime\": datetime, \"date_published\": date_published})\n",
    "    \n"
   ]
  },
  {
   "cell_type": "code",
   "execution_count": 23,
   "id": "28107edb",
   "metadata": {},
   "outputs": [
    {
     "name": "stdout",
     "output_type": "stream",
     "text": [
      "              name         country    datetime      date_published\n",
      "0     Scott Annett   United States  2024-11-18  18th November 2024\n",
      "1           R Lane  United Kingdom  2024-11-17  17th November 2024\n",
      "2       N Christie  United Kingdom  2024-11-15  15th November 2024\n",
      "3            L Tee       Australia  2024-11-13  13th November 2024\n",
      "4   Hlynur Jónsson         Iceland  2024-11-08   8th November 2024\n",
      "..             ...             ...         ...                 ...\n",
      "95     L Tomlinson  United Kingdom  2024-05-26       26th May 2024\n",
      "96         G Layne   United States  2024-05-20       20th May 2024\n",
      "97      H Harrison  United Kingdom  2024-05-18       18th May 2024\n",
      "98        E Burton  United Kingdom  2024-05-14       14th May 2024\n",
      "99   Loretta Ahmad          Canada  2024-05-08        8th May 2024\n",
      "\n",
      "[100 rows x 4 columns]\n"
     ]
    }
   ],
   "source": [
    "df1 = pd.DataFrame(text_Sub_Header)\n",
    "print(df1)"
   ]
  },
  {
   "cell_type": "code",
   "execution_count": 26,
   "id": "cf8779ed",
   "metadata": {},
   "outputs": [],
   "source": [
    "df1.to_csv(r'C:\\Users\\KEHINDE FAITH A\\Downloads\\BA_Practice\\BA_Sub_Header.csv', index=False)"
   ]
  },
  {
   "cell_type": "code",
   "execution_count": 7,
   "id": "deb999a7",
   "metadata": {},
   "outputs": [],
   "source": [
    "Review_Content = soup.find_all(\"div\", class_=\"text_content\")\n",
    "Cleaned_Review_Content = [f\"{index}. {header.get_text().strip()}\" for index, header in enumerate(Review_Content, start=1)]"
   ]
  },
  {
   "cell_type": "code",
   "execution_count": 30,
   "id": "21bc6eae",
   "metadata": {},
   "outputs": [],
   "source": [
    "#Save in dataframe\n",
    "df2 = pd.DataFrame(Cleaned_Review_Content)"
   ]
  },
  {
   "cell_type": "code",
   "execution_count": 31,
   "id": "8214f12c",
   "metadata": {},
   "outputs": [],
   "source": [
    "# Download and Save the file in a csv format\"\n",
    "df2.to_csv(r'C:\\Users\\KEHINDE FAITH A\\Downloads\\BA_Practice\\BA_Review_Content.csv', index=False)"
   ]
  },
  {
   "cell_type": "code",
   "execution_count": 8,
   "id": "2b6ad4e4",
   "metadata": {},
   "outputs": [],
   "source": [
    "# extract individual ratings\n",
    "\n",
    "ratings = []\n",
    "for table in soup.find_all('table', class_='review-ratings'):\n",
    "    rating = {}\n",
    "    for row in table.find_all('tr'):\n",
    "        header = row.find('td', class_='review-rating-header')\n",
    "        value = row.find('td', class_='review-value')\n",
    "        stars = row.find('td', class_='review-rating-stars')\n",
    "        if header and value:\n",
    "            rating[header.get_text(strip=True)] = value.get_text(strip=True)\n",
    "        elif header and stars:\n",
    "            rating_value = len(stars.find_all('span', class_='fill'))\n",
    "            rating[header.get_text(strip=True)] = rating_value\n",
    "    ratings.append(rating)\n"
   ]
  },
  {
   "cell_type": "code",
   "execution_count": 36,
   "id": "db1bf871",
   "metadata": {},
   "outputs": [
    {
     "name": "stdout",
     "output_type": "stream",
     "text": [
      "     Food & Beverages  Inflight Entertainment  Seat Comfort  Staff Service  \\\n",
      "0                 3.0                     3.0           3.0            3.0   \n",
      "1                 2.0                     3.0           2.0            NaN   \n",
      "2                 NaN                     NaN           3.0            NaN   \n",
      "3                 5.0                     4.0           5.0            NaN   \n",
      "4                 1.0                     1.0           1.0            NaN   \n",
      "..                ...                     ...           ...            ...   \n",
      "96                2.0                     1.0           2.0            NaN   \n",
      "97                NaN                     NaN           NaN            NaN   \n",
      "98                5.0                     5.0           4.0            NaN   \n",
      "99                4.0                     4.0           2.0            NaN   \n",
      "100               1.0                     2.0           2.0            NaN   \n",
      "\n",
      "     Value for Money Type Of Traveller       Seat Type  \\\n",
      "0                3.0               NaN             NaN   \n",
      "1                NaN    Family Leisure   Economy Class   \n",
      "2                NaN    Family Leisure   Economy Class   \n",
      "3                NaN    Couple Leisure  Business Class   \n",
      "4                NaN      Solo Leisure   Economy Class   \n",
      "..               ...               ...             ...   \n",
      "96               NaN    Couple Leisure  Business Class   \n",
      "97               NaN      Solo Leisure   Economy Class   \n",
      "98               NaN    Couple Leisure   Economy Class   \n",
      "99               NaN    Family Leisure  Business Class   \n",
      "100              NaN    Couple Leisure   Economy Class   \n",
      "\n",
      "                                 Route     Date Flown  Cabin Staff Service  \\\n",
      "0                                  NaN            NaN                  NaN   \n",
      "1       Madrid to San Diego via London   October 2024                  3.0   \n",
      "2                    London to Belfast  November 2024                  2.0   \n",
      "3                  Vancouver to London  November 2024                  5.0   \n",
      "4                     Malaga to London   October 2024                  1.0   \n",
      "..                                 ...            ...                  ...   \n",
      "96        London Heathrow to Hong Kong       May 2024                  3.0   \n",
      "97                    Boston to London       May 2024                  NaN   \n",
      "98   New York to Manchester via London       May 2024                  5.0   \n",
      "99             London to San Francisco    August 2023                  5.0   \n",
      "100        Malaga to Boston via London       May 2024                  2.0   \n",
      "\n",
      "     Ground Service  Wifi & Connectivity  Value For Money Recommended  \\\n",
      "0               NaN                  NaN              NaN         NaN   \n",
      "1               1.0                  1.0              3.0          no   \n",
      "2               5.0                  NaN              5.0          no   \n",
      "3               3.0                  4.0              4.0         yes   \n",
      "4               1.0                  1.0              2.0          no   \n",
      "..              ...                  ...              ...         ...   \n",
      "96              2.0                  1.0              1.0          no   \n",
      "97              1.0                  NaN              3.0          no   \n",
      "98              4.0                  NaN              4.0         yes   \n",
      "99              5.0                  NaN              2.0          no   \n",
      "100             1.0                  1.0              2.0          no   \n",
      "\n",
      "                    Aircraft  \n",
      "0                        NaN  \n",
      "1                        NaN  \n",
      "2                       A321  \n",
      "3                       A350  \n",
      "4                        NaN  \n",
      "..                       ...  \n",
      "96              Boeing 787-9  \n",
      "97                       NaN  \n",
      "98                       NaN  \n",
      "99   A380 / Boeing 777-200ER  \n",
      "100                      NaN  \n",
      "\n",
      "[101 rows x 15 columns]\n"
     ]
    }
   ],
   "source": [
    "df3 = pd.DataFrame(ratings)\n",
    "print(df3)"
   ]
  },
  {
   "cell_type": "code",
   "execution_count": 37,
   "id": "65de6222",
   "metadata": {},
   "outputs": [],
   "source": [
    "df3.to_csv(r'C:\\Users\\KEHINDE FAITH A\\Downloads\\BA_Practice\\BA_Ratings.csv', index=False)"
   ]
  },
  {
   "cell_type": "markdown",
   "id": "5b49ad0e",
   "metadata": {},
   "source": [
    "## The End  \n",
    "Thank you for reviewing the code. I hope it was clear and easy to understand."
   ]
  }
 ],
 "metadata": {
  "kernelspec": {
   "display_name": "Python 3 (ipykernel)",
   "language": "python",
   "name": "python3"
  },
  "language_info": {
   "codemirror_mode": {
    "name": "ipython",
    "version": 3
   },
   "file_extension": ".py",
   "mimetype": "text/x-python",
   "name": "python",
   "nbconvert_exporter": "python",
   "pygments_lexer": "ipython3",
   "version": "3.9.12"
  }
 },
 "nbformat": 4,
 "nbformat_minor": 5
}
